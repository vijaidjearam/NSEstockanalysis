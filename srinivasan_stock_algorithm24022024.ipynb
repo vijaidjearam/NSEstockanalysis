{
  "cells": [
    {
      "cell_type": "markdown",
      "metadata": {
        "id": "view-in-github",
        "colab_type": "text"
      },
      "source": [
        "<a href=\"https://colab.research.google.com/github/vijaidjearam/NSEstockanalysis/blob/main/srinivasan_stock_algorithm24022024.ipynb\" target=\"_parent\"><img src=\"https://colab.research.google.com/assets/colab-badge.svg\" alt=\"Open In Colab\"/></a>"
      ]
    },
    {
      "cell_type": "markdown",
      "metadata": {
        "id": "Hd3zmvdHtIrp"
      },
      "source": [
        "# Installation of Libraries Required for the RunTime\n",
        "\n",
        "---\n",
        "\n"
      ]
    },
    {
      "cell_type": "code",
      "execution_count": null,
      "metadata": {
        "cellView": "form",
        "colab": {
          "base_uri": "https://localhost:8080/"
        },
        "collapsed": true,
        "id": "wrlbXv_AFdMG",
        "outputId": "346bf515-ade2-4f84-c630-90a722498da1"
      },
      "outputs": [
        {
          "output_type": "stream",
          "name": "stdout",
          "text": [
            "Collecting nsepython\n",
            "  Downloading nsepython-2.8-py3-none-any.whl (25 kB)\n",
            "Requirement already satisfied: requests in /usr/local/lib/python3.10/dist-packages (from nsepython) (2.31.0)\n",
            "Requirement already satisfied: pandas in /usr/local/lib/python3.10/dist-packages (from nsepython) (1.5.3)\n",
            "Requirement already satisfied: scipy in /usr/local/lib/python3.10/dist-packages (from nsepython) (1.11.4)\n",
            "Requirement already satisfied: python-dateutil>=2.8.1 in /usr/local/lib/python3.10/dist-packages (from pandas->nsepython) (2.8.2)\n",
            "Requirement already satisfied: pytz>=2020.1 in /usr/local/lib/python3.10/dist-packages (from pandas->nsepython) (2023.4)\n",
            "Requirement already satisfied: numpy>=1.21.0 in /usr/local/lib/python3.10/dist-packages (from pandas->nsepython) (1.25.2)\n",
            "Requirement already satisfied: charset-normalizer<4,>=2 in /usr/local/lib/python3.10/dist-packages (from requests->nsepython) (3.3.2)\n",
            "Requirement already satisfied: idna<4,>=2.5 in /usr/local/lib/python3.10/dist-packages (from requests->nsepython) (3.6)\n",
            "Requirement already satisfied: urllib3<3,>=1.21.1 in /usr/local/lib/python3.10/dist-packages (from requests->nsepython) (2.0.7)\n",
            "Requirement already satisfied: certifi>=2017.4.17 in /usr/local/lib/python3.10/dist-packages (from requests->nsepython) (2024.2.2)\n",
            "Requirement already satisfied: six>=1.5 in /usr/local/lib/python3.10/dist-packages (from python-dateutil>=2.8.1->pandas->nsepython) (1.16.0)\n",
            "Installing collected packages: nsepython\n",
            "Successfully installed nsepython-2.8\n"
          ]
        }
      ],
      "source": [
        "# @title\n",
        "! pip install nsepython"
      ]
    },
    {
      "cell_type": "markdown",
      "metadata": {
        "id": "isi_gry3tVHj"
      },
      "source": [
        "# Import all the required libraries\n",
        "\n",
        "---\n",
        "\n"
      ]
    },
    {
      "cell_type": "code",
      "execution_count": null,
      "metadata": {
        "cellView": "form",
        "id": "pcjswpT0IIwt"
      },
      "outputs": [],
      "source": [
        "# @title\n",
        "import pandas as pd\n",
        "from nsepython import *\n",
        "from datetime import datetime, timedelta, date\n",
        "from dateutil import parser\n",
        "import math"
      ]
    },
    {
      "cell_type": "markdown",
      "metadata": {
        "id": "dJKYvt0Ztn14"
      },
      "source": [
        "# Dependent functions required for the main module\n",
        "\n",
        "---\n",
        "\n"
      ]
    },
    {
      "cell_type": "code",
      "execution_count": null,
      "metadata": {
        "id": "L7XybPXVIaWW"
      },
      "outputs": [],
      "source": [
        "# @title\n",
        "def get_index_history_lastweek(symbol):\n",
        "    start_date = (datetime.today() - timedelta(days=7)).strftime(\"%m/%d/%Y\")\n",
        "    end_date = datetime.now().strftime(\"%m/%d/%Y\")\n",
        "    df = pd.DataFrame(index_history(symbol,start_date,end_date))\n",
        "    print(df)\n",
        "def get_index_history(symbol,start_date,end_date):\n",
        "    start_date = datetime.strptime(start_date,\"%d-%m-%Y\")\n",
        "    start_date = start_date.strftime('%d-%b-%Y')\n",
        "    end_date = datetime.strptime(end_date,\"%d-%m-%Y\")\n",
        "    end_date = end_date.strftime('%d-%b-%Y')\n",
        "    df = pd.DataFrame(index_history(symbol,start_date,end_date))\n",
        "    return df\n",
        "def gethighofstartdate(df,symbol,start_date,end_date):\n",
        "    start_date = datetime.strptime(start_date,\"%d-%m-%Y\")\n",
        "    dt = start_date.strftime('%d %b %Y')\n",
        "    start_date = start_date.strftime('%d-%b-%Y')\n",
        "    end_date = datetime.strptime(end_date,\"%d-%m-%Y\")\n",
        "    end_date = end_date.strftime('%d-%b-%Y')\n",
        "    filt = (df['HistoricalDate'] == dt)\n",
        "    try:\n",
        "        result = df.loc[filt,'HIGH'].values[0]\n",
        "        return float(result)\n",
        "    except IndexError:\n",
        "        return \"NA\"\n",
        "    except ValueError as ve:\n",
        "        return ve\n",
        "def getlowofstartdate(df,symbol,start_date,end_date):\n",
        "    start_date = datetime.strptime(start_date,\"%d-%m-%Y\")\n",
        "    dt = start_date.strftime('%d %b %Y')\n",
        "    start_date = start_date.strftime('%d-%b-%Y')\n",
        "    end_date = datetime.strptime(end_date,\"%d-%m-%Y\")\n",
        "    end_date = end_date.strftime('%d-%b-%Y')\n",
        "    filt = (df['HistoricalDate'] == dt)\n",
        "    try:\n",
        "        result = df.loc[filt,'LOW'].values[0]\n",
        "        return float(result)\n",
        "    except IndexError:\n",
        "        return \"NA\"\n",
        "def gethighofenddate(df,symbol,start_date,end_date):\n",
        "    start_date = datetime.strptime(start_date,\"%d-%m-%Y\")\n",
        "    start_date = start_date.strftime('%d-%b-%Y')\n",
        "    end_date = datetime.strptime(end_date,\"%d-%m-%Y\")\n",
        "    dt = end_date.strftime('%d %b %Y')\n",
        "    end_date = end_date.strftime('%d-%b-%Y')\n",
        "    filt = (df['HistoricalDate'] == dt)\n",
        "    try:\n",
        "        result = df.loc[filt,'HIGH'].values[0]\n",
        "        return float(result)\n",
        "    except IndexError:\n",
        "        return \"NA\"\n",
        "    except ValueError as ve:\n",
        "        return ve\n",
        "def getlowofenddate(df,symbol,start_date,end_date):\n",
        "    start_date = datetime.strptime(start_date,\"%d-%m-%Y\")\n",
        "    start_date = start_date.strftime('%d-%b-%Y')\n",
        "    end_date = datetime.strptime(end_date,\"%d-%m-%Y\")\n",
        "    dt = end_date.strftime('%d %b %Y')\n",
        "    end_date = end_date.strftime('%d-%b-%Y')\n",
        "    filt = (df['HistoricalDate'] == dt)\n",
        "    try:\n",
        "        result = df.loc[filt,'LOW'].values[0]\n",
        "        return float(result)\n",
        "    except IndexError:\n",
        "        return \"NA\"\n",
        "def derivativehistorycallgetlowvalue(symbol,start_date,end_date,instrumentType,expiry_date,strikePrice):\n",
        "    optionType = \"CE\"\n",
        "    start_date = datetime.strptime(start_date,\"%d-%m-%Y\")\n",
        "    start_date = start_date.strftime(\"%d-%m-%Y\")\n",
        "    end_date = datetime.strptime(end_date,\"%d-%m-%Y\")\n",
        "    end_date = end_date.strftime(\"%d-%m-%Y\")\n",
        "    expiry_date = datetime.strptime(expiry_date,\"%d-%m-%Y\")\n",
        "    expiry_date = expiry_date.strftime(\"%d-%b-%Y\")\n",
        "    try:\n",
        "        df = pd.DataFrame(derivative_history(symbol,start_date,end_date,instrumentType,expiry_date,strikePrice,optionType))\n",
        "        result = (df['FH_TRADE_LOW_PRICE'].min())\n",
        "        return float(result)\n",
        "    except:\n",
        "        return \"NA\"\n",
        "def derivativehistoryputgetlowvalue(symbol,start_date,end_date,instrumentType,expiry_date,strikePrice,):\n",
        "    optionType = \"PE\"\n",
        "    start_date = datetime.strptime(start_date,\"%d-%m-%Y\")\n",
        "    start_date = start_date.strftime(\"%d-%m-%Y\")\n",
        "    end_date = datetime.strptime(end_date,\"%d-%m-%Y\")\n",
        "    end_date = end_date.strftime(\"%d-%m-%Y\")\n",
        "    expiry_date = datetime.strptime(expiry_date,\"%d-%m-%Y\")\n",
        "    expiry_date = expiry_date.strftime(\"%d-%b-%Y\")\n",
        "    try:\n",
        "        df = pd.DataFrame(derivative_history(symbol,start_date,end_date,instrumentType,expiry_date,strikePrice,optionType))\n",
        "        result = (df['FH_TRADE_LOW_PRICE'].min())\n",
        "        return float(result)\n",
        "    except:\n",
        "        return \"NA\"\n",
        "def round_up_to_base(x, base=50):\n",
        "    return x + (base - x) % base\n",
        "def round_down_to_base(x, base=50):\n",
        "    return x - (x % base)\n",
        "\n",
        "def get_end_strike_value(index_symbol,start_date,end_date,expiry_date,instrumentType):\n",
        "    symbol = index_symbol\n",
        "    df = get_index_history(symbol,start_date,end_date)\n",
        "    highofstartdate = gethighofstartdate(df,symbol,start_date,end_date)\n",
        "    print('highofstartdate : '+ str(highofstartdate))\n",
        "    lowofstartdate = getlowofstartdate(df,symbol,start_date,end_date)\n",
        "    print('lowofstartdate: '+ str(lowofstartdate))\n",
        "    highofenddate = gethighofenddate(df,symbol,start_date,end_date)\n",
        "    print('highofenddate: '+ str(highofenddate))\n",
        "    lowofenddate = getlowofenddate(df,symbol,start_date,end_date)\n",
        "    print('lowofenddate : '+ str(lowofenddate))\n",
        "    maxof2days = max(highofstartdate,highofenddate)\n",
        "    print('maxof2days: '+ str(maxof2days))\n",
        "    minof2days = min(lowofstartdate,lowofenddate)\n",
        "    print('minof2days :' + str(minof2days))\n",
        "    bufferhigh = round(maxof2days * 1.0015)\n",
        "    print('bufferhigh : '+ str(bufferhigh))\n",
        "    bufferlow = round(minof2days * 0.9985)\n",
        "    print('bufferlow : '+ str(bufferlow))\n",
        "    callendstrike = round_down_to_base(bufferlow)\n",
        "    print('callendstrike : '+str(callendstrike))\n",
        "    putendstrike = round_up_to_base(bufferhigh)\n",
        "    print('putendstrike : '+str(putendstrike))\n",
        "    return callendstrike,putendstrike\n",
        "def get_call_entrystrike(derivative_symbol,start_date,end_date,instrumentType,expiry_date,callendstrike):\n",
        "    # calculate CallEntryStrike 1st row\n",
        "    symbol = derivative_symbol\n",
        "    strike = []\n",
        "    premium = []\n",
        "    twodll = []\n",
        "    strike.append(callendstrike)\n",
        "    temppremium = callendstrike * (0.85/100)\n",
        "    premium.append(temppremium)\n",
        "    temptwodll = derivativehistorycallgetlowvalue(symbol,start_date,end_date,instrumentType,expiry_date,strikePrice=strike[0])\n",
        "    twodll.append(temptwodll)\n",
        "    # Call Entry strke 2....n rows\n",
        "    for i in range(1,9):\n",
        "        if twodll[-1] >= premium[-1]:\n",
        "            strike.append(strike[-1]+50)\n",
        "            premium.append(strike[-1]* (0.85/100))\n",
        "            twodll.append(derivativehistorycallgetlowvalue(symbol,start_date,end_date,instrumentType,expiry_date,strikePrice=strike[-1]))\n",
        "        else:\n",
        "            break\n",
        "    calldf = pd.DataFrame({\"strike\":strike,\"premium\":premium,\"twodll\":twodll})\n",
        "    calldf['diff']=round(calldf['twodll']-calldf['premium'],2)\n",
        "    print (calldf)\n",
        "    leastdiff = calldf.loc[calldf['diff']>0,'diff'].min()\n",
        "    leastdiff = round(leastdiff,2)\n",
        "    print ('leastdiff : '+str(leastdiff))\n",
        "    if math.isnan(leastdiff):\n",
        "        callentrystrike = 'NA'\n",
        "        calltwodll = 'NA'\n",
        "    else:\n",
        "        filt = (calldf['diff'] == leastdiff)\n",
        "        callentrystrike = calldf.loc[filt,'strike'].values[0]\n",
        "        calltwodll = calldf.loc[filt,'twodll'].values[0]\n",
        "    print(\"Call entry strike : \",callentrystrike)\n",
        "    print(\"Call entry twoDLL : \",calltwodll)\n",
        "    return callentrystrike,calltwodll\n",
        "def get_put_entrystrike(derivative_symbol,start_date,end_date,instrumentType,expiry_date,putendstrike):\n",
        "    # finding PutEntryStrike 1st row\n",
        "    symbol = derivative_symbol\n",
        "    strike = []\n",
        "    premium = []\n",
        "    twodll = []\n",
        "    strike.append(putendstrike)\n",
        "    temppremium = putendstrike * (0.85/100)\n",
        "    premium.append(temppremium)\n",
        "    temptwodll = derivativehistoryputgetlowvalue(symbol,start_date,end_date,instrumentType,expiry_date,strikePrice=strike[0])\n",
        "    twodll.append(temptwodll)\n",
        "    # Put Entry strke 2....n rows\n",
        "    for i in range(1,9):\n",
        "        if twodll[-1] >= premium[-1]:\n",
        "            strike.append(strike[-1]-50)\n",
        "            premium.append(strike[-1]* (0.85/100))\n",
        "            twodll.append(derivativehistoryputgetlowvalue(symbol,start_date,end_date,instrumentType,expiry_date,strikePrice=strike[-1]))\n",
        "        else:\n",
        "            break\n",
        "    putdf = pd.DataFrame({\"strike\":strike,\"premium\":premium,\"twodll\":twodll})\n",
        "    putdf['diff']=round(putdf['twodll']-putdf['premium'],2)\n",
        "    print (putdf)\n",
        "    leastdiff = putdf.loc[putdf['diff']>0,'diff'].min()\n",
        "    leastdiff = round(leastdiff,2)\n",
        "    print ('leastdiff : '+str(leastdiff))\n",
        "    if math.isnan(leastdiff):\n",
        "        putentrystrike = 'NA'\n",
        "        puttwodll = 'NA'\n",
        "    else:\n",
        "        filt = (putdf['diff'] == leastdiff)\n",
        "        putentrystrike = putdf.loc[filt,'strike'].values[0]\n",
        "        puttwodll = putdf.loc[filt,'twodll'].values[0]\n",
        "    print(\"Put entry strike : \",putentrystrike)\n",
        "    print(\"Put entry twoDLL : \",puttwodll)\n",
        "    return putentrystrike,puttwodll"
      ]
    },
    {
      "cell_type": "code",
      "execution_count": null,
      "metadata": {
        "cellView": "form",
        "id": "8INNM-Y3GGF6"
      },
      "outputs": [],
      "source": [
        "# @title Input Form (All the fields are mandatory to execute the main module)\n",
        "# @markdown Forms support many types of fields.\n",
        "\n",
        "index_symbol = 'NIFTY 50'  # @param [\"NIFTY 50\", \"BANKNIFTY\"]\n",
        "derivative_symbol = 'NIFTY'  # @param [\"NIFTY\", \"BANKNIFTY\"]\n",
        "start_date = \"2024-01-01\"  # @param {type: \"date\"}\n",
        "end_date = \"2024-01-02\"  # @param {type: \"date\"}\n",
        "instrumentType = 'options' # @param [\"options\", \"Futures\"]\n",
        "# @markdown ---"
      ]
    },
    {
      "cell_type": "markdown",
      "metadata": {
        "id": "7D9gqVuR8X5B"
      },
      "source": [
        "# The block below will get the expiry dates ( The Expiry dates is grabbed using the end date provided in the input form)\n",
        "\n",
        "---\n",
        "\n"
      ]
    },
    {
      "cell_type": "code",
      "execution_count": null,
      "metadata": {
        "id": "NvvJe_E4JiJN"
      },
      "outputs": [],
      "source": [
        "# @title\n",
        "def expiry_history_dates(symbol,start_date,end_date):\n",
        "  nsefetch_url = \"https://www.nseindia.com/api/historical/fo/derivatives/meta?&from=\"+start_date+\"&to=\"+end_date+\"&symbol=\"+symbol+\"\"\n",
        "  payload = nsefetch(nsefetch_url)\n",
        "  return payload\n",
        "start_date = datetime.strptime(start_date,\"%Y-%m-%d\")\n",
        "start_date = start_date.strftime(\"%d-%m-%Y\")\n",
        "end_date = datetime.strptime(end_date,\"%Y-%m-%d\")\n",
        "year = end_date.strftime(\"%Y\")\n",
        "end_date = end_date.strftime(\"%d-%m-%Y\")\n",
        "expiry_date = expiry_history_dates(derivative_symbol,start_date,end_date)\n",
        "expiry_date_list = expiry_date['yearsByInstrument']['OPTIDX'][year]"
      ]
    },
    {
      "cell_type": "markdown",
      "metadata": {
        "id": "bH9rCt1purl0"
      },
      "source": [
        "# Please select the appropriate expiry date from the drop down\n",
        "\n",
        "---\n",
        "\n"
      ]
    },
    {
      "cell_type": "code",
      "execution_count": null,
      "metadata": {
        "cellView": "form",
        "colab": {
          "base_uri": "https://localhost:8080/",
          "height": 69,
          "referenced_widgets": [
            "b5f6729b52db4e529daff25201ba1913",
            "95329a75cd274bd6a35909e37132c44e",
            "e9d1efaaf64e43a794095b64214c8e58"
          ]
        },
        "id": "WCqrhjjMJnJU",
        "outputId": "31638363-fa9c-4f99-db83-47f924f15565"
      },
      "outputs": [
        {
          "output_type": "display_data",
          "data": {
            "text/plain": [
              "Dropdown(description='Expiry_date', options=('04-Jan-2024', '11-Jan-2024', '18-Jan-2024', '25-Jan-2024', '01-F…"
            ],
            "application/vnd.jupyter.widget-view+json": {
              "version_major": 2,
              "version_minor": 0,
              "model_id": "b5f6729b52db4e529daff25201ba1913"
            }
          },
          "metadata": {}
        }
      ],
      "source": [
        "# @title\n",
        "import ipywidgets as widgets\n",
        "expiry_date_picker = widgets.Dropdown(options=expiry_date_list, description=\"Expiry_date\")\n",
        "expiry_date_picker"
      ]
    },
    {
      "cell_type": "markdown",
      "metadata": {
        "id": "XBTulIAAOSKg"
      },
      "source": [
        "# Main Module"
      ]
    },
    {
      "cell_type": "code",
      "execution_count": null,
      "metadata": {
        "colab": {
          "base_uri": "https://localhost:8080/",
          "height": 723
        },
        "id": "FT5IvovVIfRH",
        "outputId": "33a8307c-5c33-432a-9d1b-c83afbd66ecb"
      },
      "outputs": [
        {
          "output_type": "stream",
          "name": "stdout",
          "text": [
            "01-01-2024\n",
            "02-01-2024\n",
            "04-01-2024\n"
          ]
        },
        {
          "output_type": "error",
          "ename": "KeyboardInterrupt",
          "evalue": "",
          "traceback": [
            "\u001b[0;31m---------------------------------------------------------------------------\u001b[0m",
            "\u001b[0;31mKeyboardInterrupt\u001b[0m                         Traceback (most recent call last)",
            "\u001b[0;32m<ipython-input-8-517e04e08d53>\u001b[0m in \u001b[0;36m<cell line: 11>\u001b[0;34m()\u001b[0m\n\u001b[1;32m      9\u001b[0m \u001b[0mexpiry_date\u001b[0m \u001b[0;34m=\u001b[0m \u001b[0mexpiry_date\u001b[0m\u001b[0;34m.\u001b[0m\u001b[0mstrftime\u001b[0m\u001b[0;34m(\u001b[0m\u001b[0;34m\"%d-%m-%Y\"\u001b[0m\u001b[0;34m)\u001b[0m\u001b[0;34m\u001b[0m\u001b[0;34m\u001b[0m\u001b[0m\n\u001b[1;32m     10\u001b[0m \u001b[0mprint\u001b[0m\u001b[0;34m(\u001b[0m\u001b[0mexpiry_date\u001b[0m\u001b[0;34m)\u001b[0m\u001b[0;34m\u001b[0m\u001b[0;34m\u001b[0m\u001b[0m\n\u001b[0;32m---> 11\u001b[0;31m \u001b[0mcallendstrike\u001b[0m\u001b[0;34m,\u001b[0m\u001b[0mputendstrike\u001b[0m \u001b[0;34m=\u001b[0m \u001b[0mget_end_strike_value\u001b[0m\u001b[0;34m(\u001b[0m\u001b[0mindex_symbol\u001b[0m\u001b[0;34m,\u001b[0m\u001b[0mstart_date\u001b[0m\u001b[0;34m,\u001b[0m\u001b[0mend_date\u001b[0m\u001b[0;34m,\u001b[0m\u001b[0mexpiry_date\u001b[0m\u001b[0;34m,\u001b[0m\u001b[0minstrumentType\u001b[0m\u001b[0;34m)\u001b[0m\u001b[0;34m\u001b[0m\u001b[0;34m\u001b[0m\u001b[0m\n\u001b[0m\u001b[1;32m     12\u001b[0m \u001b[0mindex\u001b[0m \u001b[0;34m=\u001b[0m \u001b[0mexpiry_date_list\u001b[0m\u001b[0;34m.\u001b[0m\u001b[0mindex\u001b[0m\u001b[0;34m(\u001b[0m\u001b[0mexpiry_date_selected\u001b[0m\u001b[0;34m)\u001b[0m\u001b[0;34m\u001b[0m\u001b[0;34m\u001b[0m\u001b[0m\n\u001b[1;32m     13\u001b[0m \u001b[0;31m#The expiry dates is a list that starts with the selected expiry date and ends with the end of the expiry_date_list\u001b[0m\u001b[0;34m\u001b[0m\u001b[0;34m\u001b[0m\u001b[0m\n",
            "\u001b[0;32m<ipython-input-3-7f074ee561a3>\u001b[0m in \u001b[0;36mget_end_strike_value\u001b[0;34m(index_symbol, start_date, end_date, expiry_date, instrumentType)\u001b[0m\n\u001b[1;32m     99\u001b[0m \u001b[0;32mdef\u001b[0m \u001b[0mget_end_strike_value\u001b[0m\u001b[0;34m(\u001b[0m\u001b[0mindex_symbol\u001b[0m\u001b[0;34m,\u001b[0m\u001b[0mstart_date\u001b[0m\u001b[0;34m,\u001b[0m\u001b[0mend_date\u001b[0m\u001b[0;34m,\u001b[0m\u001b[0mexpiry_date\u001b[0m\u001b[0;34m,\u001b[0m\u001b[0minstrumentType\u001b[0m\u001b[0;34m)\u001b[0m\u001b[0;34m:\u001b[0m\u001b[0;34m\u001b[0m\u001b[0;34m\u001b[0m\u001b[0m\n\u001b[1;32m    100\u001b[0m     \u001b[0msymbol\u001b[0m \u001b[0;34m=\u001b[0m \u001b[0mindex_symbol\u001b[0m\u001b[0;34m\u001b[0m\u001b[0;34m\u001b[0m\u001b[0m\n\u001b[0;32m--> 101\u001b[0;31m     \u001b[0mdf\u001b[0m \u001b[0;34m=\u001b[0m \u001b[0mget_index_history\u001b[0m\u001b[0;34m(\u001b[0m\u001b[0msymbol\u001b[0m\u001b[0;34m,\u001b[0m\u001b[0mstart_date\u001b[0m\u001b[0;34m,\u001b[0m\u001b[0mend_date\u001b[0m\u001b[0;34m)\u001b[0m\u001b[0;34m\u001b[0m\u001b[0;34m\u001b[0m\u001b[0m\n\u001b[0m\u001b[1;32m    102\u001b[0m     \u001b[0mhighofstartdate\u001b[0m \u001b[0;34m=\u001b[0m \u001b[0mgethighofstartdate\u001b[0m\u001b[0;34m(\u001b[0m\u001b[0mdf\u001b[0m\u001b[0;34m,\u001b[0m\u001b[0msymbol\u001b[0m\u001b[0;34m,\u001b[0m\u001b[0mstart_date\u001b[0m\u001b[0;34m,\u001b[0m\u001b[0mend_date\u001b[0m\u001b[0;34m)\u001b[0m\u001b[0;34m\u001b[0m\u001b[0;34m\u001b[0m\u001b[0m\n\u001b[1;32m    103\u001b[0m     \u001b[0mprint\u001b[0m\u001b[0;34m(\u001b[0m\u001b[0;34m'highofstartdate : '\u001b[0m\u001b[0;34m+\u001b[0m \u001b[0mstr\u001b[0m\u001b[0;34m(\u001b[0m\u001b[0mhighofstartdate\u001b[0m\u001b[0;34m)\u001b[0m\u001b[0;34m)\u001b[0m\u001b[0;34m\u001b[0m\u001b[0;34m\u001b[0m\u001b[0m\n",
            "\u001b[0;32m<ipython-input-3-7f074ee561a3>\u001b[0m in \u001b[0;36mget_index_history\u001b[0;34m(symbol, start_date, end_date)\u001b[0m\n\u001b[1;32m     10\u001b[0m     \u001b[0mend_date\u001b[0m \u001b[0;34m=\u001b[0m \u001b[0mdatetime\u001b[0m\u001b[0;34m.\u001b[0m\u001b[0mstrptime\u001b[0m\u001b[0;34m(\u001b[0m\u001b[0mend_date\u001b[0m\u001b[0;34m,\u001b[0m\u001b[0;34m\"%d-%m-%Y\"\u001b[0m\u001b[0;34m)\u001b[0m\u001b[0;34m\u001b[0m\u001b[0;34m\u001b[0m\u001b[0m\n\u001b[1;32m     11\u001b[0m     \u001b[0mend_date\u001b[0m \u001b[0;34m=\u001b[0m \u001b[0mend_date\u001b[0m\u001b[0;34m.\u001b[0m\u001b[0mstrftime\u001b[0m\u001b[0;34m(\u001b[0m\u001b[0;34m'%d-%b-%Y'\u001b[0m\u001b[0;34m)\u001b[0m\u001b[0;34m\u001b[0m\u001b[0;34m\u001b[0m\u001b[0m\n\u001b[0;32m---> 12\u001b[0;31m     \u001b[0mdf\u001b[0m \u001b[0;34m=\u001b[0m \u001b[0mpd\u001b[0m\u001b[0;34m.\u001b[0m\u001b[0mDataFrame\u001b[0m\u001b[0;34m(\u001b[0m\u001b[0mindex_history\u001b[0m\u001b[0;34m(\u001b[0m\u001b[0msymbol\u001b[0m\u001b[0;34m,\u001b[0m\u001b[0mstart_date\u001b[0m\u001b[0;34m,\u001b[0m\u001b[0mend_date\u001b[0m\u001b[0;34m)\u001b[0m\u001b[0;34m)\u001b[0m\u001b[0;34m\u001b[0m\u001b[0;34m\u001b[0m\u001b[0m\n\u001b[0m\u001b[1;32m     13\u001b[0m     \u001b[0;32mreturn\u001b[0m \u001b[0mdf\u001b[0m\u001b[0;34m\u001b[0m\u001b[0;34m\u001b[0m\u001b[0m\n\u001b[1;32m     14\u001b[0m \u001b[0;32mdef\u001b[0m \u001b[0mgethighofstartdate\u001b[0m\u001b[0;34m(\u001b[0m\u001b[0mdf\u001b[0m\u001b[0;34m,\u001b[0m\u001b[0msymbol\u001b[0m\u001b[0;34m,\u001b[0m\u001b[0mstart_date\u001b[0m\u001b[0;34m,\u001b[0m\u001b[0mend_date\u001b[0m\u001b[0;34m)\u001b[0m\u001b[0;34m:\u001b[0m\u001b[0;34m\u001b[0m\u001b[0;34m\u001b[0m\u001b[0m\n",
            "\u001b[0;32m/usr/local/lib/python3.10/dist-packages/nsepython/rahu.py\u001b[0m in \u001b[0;36mindex_history\u001b[0;34m(symbol, start_date, end_date)\u001b[0m\n\u001b[1;32m    745\u001b[0m \u001b[0;32mdef\u001b[0m \u001b[0mindex_history\u001b[0m\u001b[0;34m(\u001b[0m\u001b[0msymbol\u001b[0m\u001b[0;34m,\u001b[0m\u001b[0mstart_date\u001b[0m\u001b[0;34m,\u001b[0m\u001b[0mend_date\u001b[0m\u001b[0;34m)\u001b[0m\u001b[0;34m:\u001b[0m\u001b[0;34m\u001b[0m\u001b[0;34m\u001b[0m\u001b[0m\n\u001b[1;32m    746\u001b[0m     \u001b[0mdata\u001b[0m \u001b[0;34m=\u001b[0m \u001b[0;34m\"{'name':'\"\u001b[0m\u001b[0;34m+\u001b[0m\u001b[0msymbol\u001b[0m\u001b[0;34m+\u001b[0m\u001b[0;34m\"','startDate':'\"\u001b[0m\u001b[0;34m+\u001b[0m\u001b[0mstart_date\u001b[0m\u001b[0;34m+\u001b[0m\u001b[0;34m\"','endDate':'\"\u001b[0m\u001b[0;34m+\u001b[0m\u001b[0mend_date\u001b[0m\u001b[0;34m+\u001b[0m\u001b[0;34m\"'}\"\u001b[0m\u001b[0;34m\u001b[0m\u001b[0;34m\u001b[0m\u001b[0m\n\u001b[0;32m--> 747\u001b[0;31m     \u001b[0mpayload\u001b[0m \u001b[0;34m=\u001b[0m \u001b[0mrequests\u001b[0m\u001b[0;34m.\u001b[0m\u001b[0mpost\u001b[0m\u001b[0;34m(\u001b[0m\u001b[0;34m'https://niftyindices.com/Backpage.aspx/getHistoricaldatatabletoString'\u001b[0m\u001b[0;34m,\u001b[0m \u001b[0mheaders\u001b[0m\u001b[0;34m=\u001b[0m\u001b[0mniftyindices_headers\u001b[0m\u001b[0;34m,\u001b[0m  \u001b[0mdata\u001b[0m\u001b[0;34m=\u001b[0m\u001b[0mdata\u001b[0m\u001b[0;34m)\u001b[0m\u001b[0;34m.\u001b[0m\u001b[0mjson\u001b[0m\u001b[0;34m(\u001b[0m\u001b[0;34m)\u001b[0m\u001b[0;34m\u001b[0m\u001b[0;34m\u001b[0m\u001b[0m\n\u001b[0m\u001b[1;32m    748\u001b[0m     \u001b[0mpayload\u001b[0m \u001b[0;34m=\u001b[0m \u001b[0mjson\u001b[0m\u001b[0;34m.\u001b[0m\u001b[0mloads\u001b[0m\u001b[0;34m(\u001b[0m\u001b[0mpayload\u001b[0m\u001b[0;34m[\u001b[0m\u001b[0;34m\"d\"\u001b[0m\u001b[0;34m]\u001b[0m\u001b[0;34m)\u001b[0m\u001b[0;34m\u001b[0m\u001b[0;34m\u001b[0m\u001b[0m\n\u001b[1;32m    749\u001b[0m     \u001b[0mpayload\u001b[0m\u001b[0;34m=\u001b[0m\u001b[0mpd\u001b[0m\u001b[0;34m.\u001b[0m\u001b[0mDataFrame\u001b[0m\u001b[0;34m.\u001b[0m\u001b[0mfrom_records\u001b[0m\u001b[0;34m(\u001b[0m\u001b[0mpayload\u001b[0m\u001b[0;34m)\u001b[0m\u001b[0;34m\u001b[0m\u001b[0;34m\u001b[0m\u001b[0m\n",
            "\u001b[0;32m/usr/local/lib/python3.10/dist-packages/requests/api.py\u001b[0m in \u001b[0;36mpost\u001b[0;34m(url, data, json, **kwargs)\u001b[0m\n\u001b[1;32m    113\u001b[0m     \"\"\"\n\u001b[1;32m    114\u001b[0m \u001b[0;34m\u001b[0m\u001b[0m\n\u001b[0;32m--> 115\u001b[0;31m     \u001b[0;32mreturn\u001b[0m \u001b[0mrequest\u001b[0m\u001b[0;34m(\u001b[0m\u001b[0;34m\"post\"\u001b[0m\u001b[0;34m,\u001b[0m \u001b[0murl\u001b[0m\u001b[0;34m,\u001b[0m \u001b[0mdata\u001b[0m\u001b[0;34m=\u001b[0m\u001b[0mdata\u001b[0m\u001b[0;34m,\u001b[0m \u001b[0mjson\u001b[0m\u001b[0;34m=\u001b[0m\u001b[0mjson\u001b[0m\u001b[0;34m,\u001b[0m \u001b[0;34m**\u001b[0m\u001b[0mkwargs\u001b[0m\u001b[0;34m)\u001b[0m\u001b[0;34m\u001b[0m\u001b[0;34m\u001b[0m\u001b[0m\n\u001b[0m\u001b[1;32m    116\u001b[0m \u001b[0;34m\u001b[0m\u001b[0m\n\u001b[1;32m    117\u001b[0m \u001b[0;34m\u001b[0m\u001b[0m\n",
            "\u001b[0;32m/usr/local/lib/python3.10/dist-packages/requests/api.py\u001b[0m in \u001b[0;36mrequest\u001b[0;34m(method, url, **kwargs)\u001b[0m\n\u001b[1;32m     57\u001b[0m     \u001b[0;31m# cases, and look like a memory leak in others.\u001b[0m\u001b[0;34m\u001b[0m\u001b[0;34m\u001b[0m\u001b[0m\n\u001b[1;32m     58\u001b[0m     \u001b[0;32mwith\u001b[0m \u001b[0msessions\u001b[0m\u001b[0;34m.\u001b[0m\u001b[0mSession\u001b[0m\u001b[0;34m(\u001b[0m\u001b[0;34m)\u001b[0m \u001b[0;32mas\u001b[0m \u001b[0msession\u001b[0m\u001b[0;34m:\u001b[0m\u001b[0;34m\u001b[0m\u001b[0;34m\u001b[0m\u001b[0m\n\u001b[0;32m---> 59\u001b[0;31m         \u001b[0;32mreturn\u001b[0m \u001b[0msession\u001b[0m\u001b[0;34m.\u001b[0m\u001b[0mrequest\u001b[0m\u001b[0;34m(\u001b[0m\u001b[0mmethod\u001b[0m\u001b[0;34m=\u001b[0m\u001b[0mmethod\u001b[0m\u001b[0;34m,\u001b[0m \u001b[0murl\u001b[0m\u001b[0;34m=\u001b[0m\u001b[0murl\u001b[0m\u001b[0;34m,\u001b[0m \u001b[0;34m**\u001b[0m\u001b[0mkwargs\u001b[0m\u001b[0;34m)\u001b[0m\u001b[0;34m\u001b[0m\u001b[0;34m\u001b[0m\u001b[0m\n\u001b[0m\u001b[1;32m     60\u001b[0m \u001b[0;34m\u001b[0m\u001b[0m\n\u001b[1;32m     61\u001b[0m \u001b[0;34m\u001b[0m\u001b[0m\n",
            "\u001b[0;32m/usr/local/lib/python3.10/dist-packages/requests/sessions.py\u001b[0m in \u001b[0;36mrequest\u001b[0;34m(self, method, url, params, data, headers, cookies, files, auth, timeout, allow_redirects, proxies, hooks, stream, verify, cert, json)\u001b[0m\n\u001b[1;32m    587\u001b[0m         }\n\u001b[1;32m    588\u001b[0m         \u001b[0msend_kwargs\u001b[0m\u001b[0;34m.\u001b[0m\u001b[0mupdate\u001b[0m\u001b[0;34m(\u001b[0m\u001b[0msettings\u001b[0m\u001b[0;34m)\u001b[0m\u001b[0;34m\u001b[0m\u001b[0;34m\u001b[0m\u001b[0m\n\u001b[0;32m--> 589\u001b[0;31m         \u001b[0mresp\u001b[0m \u001b[0;34m=\u001b[0m \u001b[0mself\u001b[0m\u001b[0;34m.\u001b[0m\u001b[0msend\u001b[0m\u001b[0;34m(\u001b[0m\u001b[0mprep\u001b[0m\u001b[0;34m,\u001b[0m \u001b[0;34m**\u001b[0m\u001b[0msend_kwargs\u001b[0m\u001b[0;34m)\u001b[0m\u001b[0;34m\u001b[0m\u001b[0;34m\u001b[0m\u001b[0m\n\u001b[0m\u001b[1;32m    590\u001b[0m \u001b[0;34m\u001b[0m\u001b[0m\n\u001b[1;32m    591\u001b[0m         \u001b[0;32mreturn\u001b[0m \u001b[0mresp\u001b[0m\u001b[0;34m\u001b[0m\u001b[0;34m\u001b[0m\u001b[0m\n",
            "\u001b[0;32m/usr/local/lib/python3.10/dist-packages/requests/sessions.py\u001b[0m in \u001b[0;36msend\u001b[0;34m(self, request, **kwargs)\u001b[0m\n\u001b[1;32m    701\u001b[0m \u001b[0;34m\u001b[0m\u001b[0m\n\u001b[1;32m    702\u001b[0m         \u001b[0;31m# Send the request\u001b[0m\u001b[0;34m\u001b[0m\u001b[0;34m\u001b[0m\u001b[0m\n\u001b[0;32m--> 703\u001b[0;31m         \u001b[0mr\u001b[0m \u001b[0;34m=\u001b[0m \u001b[0madapter\u001b[0m\u001b[0;34m.\u001b[0m\u001b[0msend\u001b[0m\u001b[0;34m(\u001b[0m\u001b[0mrequest\u001b[0m\u001b[0;34m,\u001b[0m \u001b[0;34m**\u001b[0m\u001b[0mkwargs\u001b[0m\u001b[0;34m)\u001b[0m\u001b[0;34m\u001b[0m\u001b[0;34m\u001b[0m\u001b[0m\n\u001b[0m\u001b[1;32m    704\u001b[0m \u001b[0;34m\u001b[0m\u001b[0m\n\u001b[1;32m    705\u001b[0m         \u001b[0;31m# Total elapsed time of the request (approximately)\u001b[0m\u001b[0;34m\u001b[0m\u001b[0;34m\u001b[0m\u001b[0m\n",
            "\u001b[0;32m/usr/local/lib/python3.10/dist-packages/requests/adapters.py\u001b[0m in \u001b[0;36msend\u001b[0;34m(self, request, stream, timeout, verify, cert, proxies)\u001b[0m\n\u001b[1;32m    484\u001b[0m \u001b[0;34m\u001b[0m\u001b[0m\n\u001b[1;32m    485\u001b[0m         \u001b[0;32mtry\u001b[0m\u001b[0;34m:\u001b[0m\u001b[0;34m\u001b[0m\u001b[0;34m\u001b[0m\u001b[0m\n\u001b[0;32m--> 486\u001b[0;31m             resp = conn.urlopen(\n\u001b[0m\u001b[1;32m    487\u001b[0m                 \u001b[0mmethod\u001b[0m\u001b[0;34m=\u001b[0m\u001b[0mrequest\u001b[0m\u001b[0;34m.\u001b[0m\u001b[0mmethod\u001b[0m\u001b[0;34m,\u001b[0m\u001b[0;34m\u001b[0m\u001b[0;34m\u001b[0m\u001b[0m\n\u001b[1;32m    488\u001b[0m                 \u001b[0murl\u001b[0m\u001b[0;34m=\u001b[0m\u001b[0murl\u001b[0m\u001b[0;34m,\u001b[0m\u001b[0;34m\u001b[0m\u001b[0;34m\u001b[0m\u001b[0m\n",
            "\u001b[0;32m/usr/local/lib/python3.10/dist-packages/urllib3/connectionpool.py\u001b[0m in \u001b[0;36murlopen\u001b[0;34m(self, method, url, body, headers, retries, redirect, assert_same_host, timeout, pool_timeout, release_conn, chunked, body_pos, preload_content, decode_content, **response_kw)\u001b[0m\n\u001b[1;32m    789\u001b[0m \u001b[0;34m\u001b[0m\u001b[0m\n\u001b[1;32m    790\u001b[0m             \u001b[0;31m# Make the request on the HTTPConnection object\u001b[0m\u001b[0;34m\u001b[0m\u001b[0;34m\u001b[0m\u001b[0m\n\u001b[0;32m--> 791\u001b[0;31m             response = self._make_request(\n\u001b[0m\u001b[1;32m    792\u001b[0m                 \u001b[0mconn\u001b[0m\u001b[0;34m,\u001b[0m\u001b[0;34m\u001b[0m\u001b[0;34m\u001b[0m\u001b[0m\n\u001b[1;32m    793\u001b[0m                 \u001b[0mmethod\u001b[0m\u001b[0;34m,\u001b[0m\u001b[0;34m\u001b[0m\u001b[0;34m\u001b[0m\u001b[0m\n",
            "\u001b[0;32m/usr/local/lib/python3.10/dist-packages/urllib3/connectionpool.py\u001b[0m in \u001b[0;36m_make_request\u001b[0;34m(self, conn, method, url, body, headers, retries, timeout, chunked, response_conn, preload_content, decode_content, enforce_content_length)\u001b[0m\n\u001b[1;32m    535\u001b[0m         \u001b[0;31m# Receive the response from the server\u001b[0m\u001b[0;34m\u001b[0m\u001b[0;34m\u001b[0m\u001b[0m\n\u001b[1;32m    536\u001b[0m         \u001b[0;32mtry\u001b[0m\u001b[0;34m:\u001b[0m\u001b[0;34m\u001b[0m\u001b[0;34m\u001b[0m\u001b[0m\n\u001b[0;32m--> 537\u001b[0;31m             \u001b[0mresponse\u001b[0m \u001b[0;34m=\u001b[0m \u001b[0mconn\u001b[0m\u001b[0;34m.\u001b[0m\u001b[0mgetresponse\u001b[0m\u001b[0;34m(\u001b[0m\u001b[0;34m)\u001b[0m\u001b[0;34m\u001b[0m\u001b[0;34m\u001b[0m\u001b[0m\n\u001b[0m\u001b[1;32m    538\u001b[0m         \u001b[0;32mexcept\u001b[0m \u001b[0;34m(\u001b[0m\u001b[0mBaseSSLError\u001b[0m\u001b[0;34m,\u001b[0m \u001b[0mOSError\u001b[0m\u001b[0;34m)\u001b[0m \u001b[0;32mas\u001b[0m \u001b[0me\u001b[0m\u001b[0;34m:\u001b[0m\u001b[0;34m\u001b[0m\u001b[0;34m\u001b[0m\u001b[0m\n\u001b[1;32m    539\u001b[0m             \u001b[0mself\u001b[0m\u001b[0;34m.\u001b[0m\u001b[0m_raise_timeout\u001b[0m\u001b[0;34m(\u001b[0m\u001b[0merr\u001b[0m\u001b[0;34m=\u001b[0m\u001b[0me\u001b[0m\u001b[0;34m,\u001b[0m \u001b[0murl\u001b[0m\u001b[0;34m=\u001b[0m\u001b[0murl\u001b[0m\u001b[0;34m,\u001b[0m \u001b[0mtimeout_value\u001b[0m\u001b[0;34m=\u001b[0m\u001b[0mread_timeout\u001b[0m\u001b[0;34m)\u001b[0m\u001b[0;34m\u001b[0m\u001b[0;34m\u001b[0m\u001b[0m\n",
            "\u001b[0;32m/usr/local/lib/python3.10/dist-packages/urllib3/connection.py\u001b[0m in \u001b[0;36mgetresponse\u001b[0;34m(self)\u001b[0m\n\u001b[1;32m    459\u001b[0m \u001b[0;34m\u001b[0m\u001b[0m\n\u001b[1;32m    460\u001b[0m         \u001b[0;31m# Get the response from http.client.HTTPConnection\u001b[0m\u001b[0;34m\u001b[0m\u001b[0;34m\u001b[0m\u001b[0m\n\u001b[0;32m--> 461\u001b[0;31m         \u001b[0mhttplib_response\u001b[0m \u001b[0;34m=\u001b[0m \u001b[0msuper\u001b[0m\u001b[0;34m(\u001b[0m\u001b[0;34m)\u001b[0m\u001b[0;34m.\u001b[0m\u001b[0mgetresponse\u001b[0m\u001b[0;34m(\u001b[0m\u001b[0;34m)\u001b[0m\u001b[0;34m\u001b[0m\u001b[0;34m\u001b[0m\u001b[0m\n\u001b[0m\u001b[1;32m    462\u001b[0m \u001b[0;34m\u001b[0m\u001b[0m\n\u001b[1;32m    463\u001b[0m         \u001b[0;32mtry\u001b[0m\u001b[0;34m:\u001b[0m\u001b[0;34m\u001b[0m\u001b[0;34m\u001b[0m\u001b[0m\n",
            "\u001b[0;32m/usr/lib/python3.10/http/client.py\u001b[0m in \u001b[0;36mgetresponse\u001b[0;34m(self)\u001b[0m\n\u001b[1;32m   1373\u001b[0m         \u001b[0;32mtry\u001b[0m\u001b[0;34m:\u001b[0m\u001b[0;34m\u001b[0m\u001b[0;34m\u001b[0m\u001b[0m\n\u001b[1;32m   1374\u001b[0m             \u001b[0;32mtry\u001b[0m\u001b[0;34m:\u001b[0m\u001b[0;34m\u001b[0m\u001b[0;34m\u001b[0m\u001b[0m\n\u001b[0;32m-> 1375\u001b[0;31m                 \u001b[0mresponse\u001b[0m\u001b[0;34m.\u001b[0m\u001b[0mbegin\u001b[0m\u001b[0;34m(\u001b[0m\u001b[0;34m)\u001b[0m\u001b[0;34m\u001b[0m\u001b[0;34m\u001b[0m\u001b[0m\n\u001b[0m\u001b[1;32m   1376\u001b[0m             \u001b[0;32mexcept\u001b[0m \u001b[0mConnectionError\u001b[0m\u001b[0;34m:\u001b[0m\u001b[0;34m\u001b[0m\u001b[0;34m\u001b[0m\u001b[0m\n\u001b[1;32m   1377\u001b[0m                 \u001b[0mself\u001b[0m\u001b[0;34m.\u001b[0m\u001b[0mclose\u001b[0m\u001b[0;34m(\u001b[0m\u001b[0;34m)\u001b[0m\u001b[0;34m\u001b[0m\u001b[0;34m\u001b[0m\u001b[0m\n",
            "\u001b[0;32m/usr/lib/python3.10/http/client.py\u001b[0m in \u001b[0;36mbegin\u001b[0;34m(self)\u001b[0m\n\u001b[1;32m    316\u001b[0m         \u001b[0;31m# read until we get a non-100 response\u001b[0m\u001b[0;34m\u001b[0m\u001b[0;34m\u001b[0m\u001b[0m\n\u001b[1;32m    317\u001b[0m         \u001b[0;32mwhile\u001b[0m \u001b[0;32mTrue\u001b[0m\u001b[0;34m:\u001b[0m\u001b[0;34m\u001b[0m\u001b[0;34m\u001b[0m\u001b[0m\n\u001b[0;32m--> 318\u001b[0;31m             \u001b[0mversion\u001b[0m\u001b[0;34m,\u001b[0m \u001b[0mstatus\u001b[0m\u001b[0;34m,\u001b[0m \u001b[0mreason\u001b[0m \u001b[0;34m=\u001b[0m \u001b[0mself\u001b[0m\u001b[0;34m.\u001b[0m\u001b[0m_read_status\u001b[0m\u001b[0;34m(\u001b[0m\u001b[0;34m)\u001b[0m\u001b[0;34m\u001b[0m\u001b[0;34m\u001b[0m\u001b[0m\n\u001b[0m\u001b[1;32m    319\u001b[0m             \u001b[0;32mif\u001b[0m \u001b[0mstatus\u001b[0m \u001b[0;34m!=\u001b[0m \u001b[0mCONTINUE\u001b[0m\u001b[0;34m:\u001b[0m\u001b[0;34m\u001b[0m\u001b[0;34m\u001b[0m\u001b[0m\n\u001b[1;32m    320\u001b[0m                 \u001b[0;32mbreak\u001b[0m\u001b[0;34m\u001b[0m\u001b[0;34m\u001b[0m\u001b[0m\n",
            "\u001b[0;32m/usr/lib/python3.10/http/client.py\u001b[0m in \u001b[0;36m_read_status\u001b[0;34m(self)\u001b[0m\n\u001b[1;32m    277\u001b[0m \u001b[0;34m\u001b[0m\u001b[0m\n\u001b[1;32m    278\u001b[0m     \u001b[0;32mdef\u001b[0m \u001b[0m_read_status\u001b[0m\u001b[0;34m(\u001b[0m\u001b[0mself\u001b[0m\u001b[0;34m)\u001b[0m\u001b[0;34m:\u001b[0m\u001b[0;34m\u001b[0m\u001b[0;34m\u001b[0m\u001b[0m\n\u001b[0;32m--> 279\u001b[0;31m         \u001b[0mline\u001b[0m \u001b[0;34m=\u001b[0m \u001b[0mstr\u001b[0m\u001b[0;34m(\u001b[0m\u001b[0mself\u001b[0m\u001b[0;34m.\u001b[0m\u001b[0mfp\u001b[0m\u001b[0;34m.\u001b[0m\u001b[0mreadline\u001b[0m\u001b[0;34m(\u001b[0m\u001b[0m_MAXLINE\u001b[0m \u001b[0;34m+\u001b[0m \u001b[0;36m1\u001b[0m\u001b[0;34m)\u001b[0m\u001b[0;34m,\u001b[0m \u001b[0;34m\"iso-8859-1\"\u001b[0m\u001b[0;34m)\u001b[0m\u001b[0;34m\u001b[0m\u001b[0;34m\u001b[0m\u001b[0m\n\u001b[0m\u001b[1;32m    280\u001b[0m         \u001b[0;32mif\u001b[0m \u001b[0mlen\u001b[0m\u001b[0;34m(\u001b[0m\u001b[0mline\u001b[0m\u001b[0;34m)\u001b[0m \u001b[0;34m>\u001b[0m \u001b[0m_MAXLINE\u001b[0m\u001b[0;34m:\u001b[0m\u001b[0;34m\u001b[0m\u001b[0;34m\u001b[0m\u001b[0m\n\u001b[1;32m    281\u001b[0m             \u001b[0;32mraise\u001b[0m \u001b[0mLineTooLong\u001b[0m\u001b[0;34m(\u001b[0m\u001b[0;34m\"status line\"\u001b[0m\u001b[0;34m)\u001b[0m\u001b[0;34m\u001b[0m\u001b[0;34m\u001b[0m\u001b[0m\n",
            "\u001b[0;32m/usr/lib/python3.10/socket.py\u001b[0m in \u001b[0;36mreadinto\u001b[0;34m(self, b)\u001b[0m\n\u001b[1;32m    703\u001b[0m         \u001b[0;32mwhile\u001b[0m \u001b[0;32mTrue\u001b[0m\u001b[0;34m:\u001b[0m\u001b[0;34m\u001b[0m\u001b[0;34m\u001b[0m\u001b[0m\n\u001b[1;32m    704\u001b[0m             \u001b[0;32mtry\u001b[0m\u001b[0;34m:\u001b[0m\u001b[0;34m\u001b[0m\u001b[0;34m\u001b[0m\u001b[0m\n\u001b[0;32m--> 705\u001b[0;31m                 \u001b[0;32mreturn\u001b[0m \u001b[0mself\u001b[0m\u001b[0;34m.\u001b[0m\u001b[0m_sock\u001b[0m\u001b[0;34m.\u001b[0m\u001b[0mrecv_into\u001b[0m\u001b[0;34m(\u001b[0m\u001b[0mb\u001b[0m\u001b[0;34m)\u001b[0m\u001b[0;34m\u001b[0m\u001b[0;34m\u001b[0m\u001b[0m\n\u001b[0m\u001b[1;32m    706\u001b[0m             \u001b[0;32mexcept\u001b[0m \u001b[0mtimeout\u001b[0m\u001b[0;34m:\u001b[0m\u001b[0;34m\u001b[0m\u001b[0;34m\u001b[0m\u001b[0m\n\u001b[1;32m    707\u001b[0m                 \u001b[0mself\u001b[0m\u001b[0;34m.\u001b[0m\u001b[0m_timeout_occurred\u001b[0m \u001b[0;34m=\u001b[0m \u001b[0;32mTrue\u001b[0m\u001b[0;34m\u001b[0m\u001b[0;34m\u001b[0m\u001b[0m\n",
            "\u001b[0;32m/usr/lib/python3.10/ssl.py\u001b[0m in \u001b[0;36mrecv_into\u001b[0;34m(self, buffer, nbytes, flags)\u001b[0m\n\u001b[1;32m   1301\u001b[0m                   \u001b[0;34m\"non-zero flags not allowed in calls to recv_into() on %s\"\u001b[0m \u001b[0;34m%\u001b[0m\u001b[0;34m\u001b[0m\u001b[0;34m\u001b[0m\u001b[0m\n\u001b[1;32m   1302\u001b[0m                   self.__class__)\n\u001b[0;32m-> 1303\u001b[0;31m             \u001b[0;32mreturn\u001b[0m \u001b[0mself\u001b[0m\u001b[0;34m.\u001b[0m\u001b[0mread\u001b[0m\u001b[0;34m(\u001b[0m\u001b[0mnbytes\u001b[0m\u001b[0;34m,\u001b[0m \u001b[0mbuffer\u001b[0m\u001b[0;34m)\u001b[0m\u001b[0;34m\u001b[0m\u001b[0;34m\u001b[0m\u001b[0m\n\u001b[0m\u001b[1;32m   1304\u001b[0m         \u001b[0;32melse\u001b[0m\u001b[0;34m:\u001b[0m\u001b[0;34m\u001b[0m\u001b[0;34m\u001b[0m\u001b[0m\n\u001b[1;32m   1305\u001b[0m             \u001b[0;32mreturn\u001b[0m \u001b[0msuper\u001b[0m\u001b[0;34m(\u001b[0m\u001b[0;34m)\u001b[0m\u001b[0;34m.\u001b[0m\u001b[0mrecv_into\u001b[0m\u001b[0;34m(\u001b[0m\u001b[0mbuffer\u001b[0m\u001b[0;34m,\u001b[0m \u001b[0mnbytes\u001b[0m\u001b[0;34m,\u001b[0m \u001b[0mflags\u001b[0m\u001b[0;34m)\u001b[0m\u001b[0;34m\u001b[0m\u001b[0;34m\u001b[0m\u001b[0m\n",
            "\u001b[0;32m/usr/lib/python3.10/ssl.py\u001b[0m in \u001b[0;36mread\u001b[0;34m(self, len, buffer)\u001b[0m\n\u001b[1;32m   1157\u001b[0m         \u001b[0;32mtry\u001b[0m\u001b[0;34m:\u001b[0m\u001b[0;34m\u001b[0m\u001b[0;34m\u001b[0m\u001b[0m\n\u001b[1;32m   1158\u001b[0m             \u001b[0;32mif\u001b[0m \u001b[0mbuffer\u001b[0m \u001b[0;32mis\u001b[0m \u001b[0;32mnot\u001b[0m \u001b[0;32mNone\u001b[0m\u001b[0;34m:\u001b[0m\u001b[0;34m\u001b[0m\u001b[0;34m\u001b[0m\u001b[0m\n\u001b[0;32m-> 1159\u001b[0;31m                 \u001b[0;32mreturn\u001b[0m \u001b[0mself\u001b[0m\u001b[0;34m.\u001b[0m\u001b[0m_sslobj\u001b[0m\u001b[0;34m.\u001b[0m\u001b[0mread\u001b[0m\u001b[0;34m(\u001b[0m\u001b[0mlen\u001b[0m\u001b[0;34m,\u001b[0m \u001b[0mbuffer\u001b[0m\u001b[0;34m)\u001b[0m\u001b[0;34m\u001b[0m\u001b[0;34m\u001b[0m\u001b[0m\n\u001b[0m\u001b[1;32m   1160\u001b[0m             \u001b[0;32melse\u001b[0m\u001b[0;34m:\u001b[0m\u001b[0;34m\u001b[0m\u001b[0;34m\u001b[0m\u001b[0m\n\u001b[1;32m   1161\u001b[0m                 \u001b[0;32mreturn\u001b[0m \u001b[0mself\u001b[0m\u001b[0;34m.\u001b[0m\u001b[0m_sslobj\u001b[0m\u001b[0;34m.\u001b[0m\u001b[0mread\u001b[0m\u001b[0;34m(\u001b[0m\u001b[0mlen\u001b[0m\u001b[0;34m)\u001b[0m\u001b[0;34m\u001b[0m\u001b[0;34m\u001b[0m\u001b[0m\n",
            "\u001b[0;31mKeyboardInterrupt\u001b[0m: "
          ]
        }
      ],
      "source": [
        "# @title\n",
        "#start_date = datetime.strptime(start_date,\"%Y-%m-%d\")\n",
        "#end_date = datetime.strptime(end_date,\"%Y-%m-%d\")\n",
        "expiry_date = expiry_date_picker.value\n",
        "expiry_date = datetime.strptime(expiry_date,\"%d-%b-%Y\")\n",
        "expiry_date_selected = expiry_date.strftime(\"%d-%b-%Y\")\n",
        "print(start_date)\n",
        "print(end_date)\n",
        "expiry_date = expiry_date.strftime(\"%d-%m-%Y\")\n",
        "print(expiry_date)\n",
        "callendstrike,putendstrike = get_end_strike_value(index_symbol,start_date,end_date,expiry_date,instrumentType)\n",
        "index = expiry_date_list.index(expiry_date_selected)\n",
        "#The expiry dates is a list that starts with the selected expiry date and ends with the end of the expiry_date_list\n",
        "expiry_dates = expiry_date_list[index:-1]\n",
        "callentrystrike = 'NA'\n",
        "putentrystrike = 'NA'\n",
        "for item in expiry_dates:\n",
        "  if callentrystrike == 'NA':\n",
        "    expiry_date = datetime.strptime(item,\"%d-%b-%Y\")\n",
        "    expiry_date = expiry_date.strftime(\"%d-%m-%Y\")\n",
        "    print (\"--------Calculating Call entry strike for expiry date : \"+expiry_date)\n",
        "    callentrystrike,calltwodll = get_call_entrystrike(derivative_symbol,start_date,end_date,instrumentType,expiry_date,callendstrike)\n",
        "\n",
        "CallEntry = 0.9 * calltwodll\n",
        "CallTarget = CallEntry * 0.25\n",
        "CallStoploss = CallEntry * 1.75\n",
        "print(\"CallEntry : \"+str(CallEntry))\n",
        "print(\"CallTarget :\" +str(CallTarget))\n",
        "print(\"CallStoploss : \"+str(CallStoploss))\n",
        "\n",
        "\n",
        "for item in expiry_dates:\n",
        "  if putentrystrike == 'NA':\n",
        "    expiry_date = datetime.strptime(item,\"%d-%b-%Y\")\n",
        "    expiry_date = expiry_date.strftime(\"%d-%m-%Y\")\n",
        "    print (\"--------Calculating Put entry strike for expiry date : \"+expiry_date)\n",
        "    putentrystrike,puttwodll = get_put_entrystrike(derivative_symbol,start_date,end_date,instrumentType,expiry_date,putendstrike)\n",
        "\n",
        "PutEntry = 0.9 * puttwodll\n",
        "PutTarget = PutEntry * 0.25\n",
        "PutStoploss = PutEntry * 1.75\n",
        "print(\"PutEntry : \"+str(PutEntry))\n",
        "print(\"PutTarget :\" +str(PutTarget))\n",
        "print(\"PutStoploss : \"+str(PutStoploss))"
      ]
    },
    {
      "cell_type": "markdown",
      "metadata": {
        "id": "WXcBo_x4u7AZ"
      },
      "source": [
        "# Main Module"
      ]
    },
    {
      "cell_type": "markdown",
      "metadata": {
        "id": "X0zgbA-Qi-z2"
      },
      "source": [
        "\n",
        "\n",
        "```\n",
        "# Change logs\n",
        "```\n",
        "--18/02/2024\n",
        "\n",
        "Code requests\n",
        "\n",
        "1. include date selection in index history ✅\n",
        "\n",
        "2. get all expiry date,if leasediff nan ,try with next expiry date ✅\n",
        "\n",
        "3. Entry=0.9*2dll; Target=Entry*0.25; Stoploss=Entry*1.75 ✅\n",
        "\n",
        "\n",
        "\n",
        "\n",
        "\n"
      ]
    }
  ],
  "metadata": {
    "colab": {
      "provenance": [],
      "include_colab_link": true
    },
    "kernelspec": {
      "display_name": "Python 3",
      "name": "python3"
    },
    "language_info": {
      "name": "python"
    },
    "widgets": {
      "application/vnd.jupyter.widget-state+json": {
        "b5f6729b52db4e529daff25201ba1913": {
          "model_module": "@jupyter-widgets/controls",
          "model_name": "DropdownModel",
          "model_module_version": "1.5.0",
          "state": {
            "_dom_classes": [],
            "_model_module": "@jupyter-widgets/controls",
            "_model_module_version": "1.5.0",
            "_model_name": "DropdownModel",
            "_options_labels": [
              "04-Jan-2024",
              "11-Jan-2024",
              "18-Jan-2024",
              "25-Jan-2024",
              "01-Feb-2024",
              "08-Feb-2024",
              "15-Feb-2024",
              "22-Feb-2024",
              "29-Feb-2024",
              "07-Mar-2024",
              "14-Mar-2024",
              "21-Mar-2024",
              "28-Mar-2024",
              "04-Apr-2024",
              "25-Apr-2024",
              "27-Jun-2024",
              "26-Sep-2024",
              "26-Dec-2024"
            ],
            "_view_count": null,
            "_view_module": "@jupyter-widgets/controls",
            "_view_module_version": "1.5.0",
            "_view_name": "DropdownView",
            "description": "Expiry_date",
            "description_tooltip": null,
            "disabled": false,
            "index": 0,
            "layout": "IPY_MODEL_95329a75cd274bd6a35909e37132c44e",
            "style": "IPY_MODEL_e9d1efaaf64e43a794095b64214c8e58"
          }
        },
        "95329a75cd274bd6a35909e37132c44e": {
          "model_module": "@jupyter-widgets/base",
          "model_name": "LayoutModel",
          "model_module_version": "1.2.0",
          "state": {
            "_model_module": "@jupyter-widgets/base",
            "_model_module_version": "1.2.0",
            "_model_name": "LayoutModel",
            "_view_count": null,
            "_view_module": "@jupyter-widgets/base",
            "_view_module_version": "1.2.0",
            "_view_name": "LayoutView",
            "align_content": null,
            "align_items": null,
            "align_self": null,
            "border": null,
            "bottom": null,
            "display": null,
            "flex": null,
            "flex_flow": null,
            "grid_area": null,
            "grid_auto_columns": null,
            "grid_auto_flow": null,
            "grid_auto_rows": null,
            "grid_column": null,
            "grid_gap": null,
            "grid_row": null,
            "grid_template_areas": null,
            "grid_template_columns": null,
            "grid_template_rows": null,
            "height": null,
            "justify_content": null,
            "justify_items": null,
            "left": null,
            "margin": null,
            "max_height": null,
            "max_width": null,
            "min_height": null,
            "min_width": null,
            "object_fit": null,
            "object_position": null,
            "order": null,
            "overflow": null,
            "overflow_x": null,
            "overflow_y": null,
            "padding": null,
            "right": null,
            "top": null,
            "visibility": null,
            "width": null
          }
        },
        "e9d1efaaf64e43a794095b64214c8e58": {
          "model_module": "@jupyter-widgets/controls",
          "model_name": "DescriptionStyleModel",
          "model_module_version": "1.5.0",
          "state": {
            "_model_module": "@jupyter-widgets/controls",
            "_model_module_version": "1.5.0",
            "_model_name": "DescriptionStyleModel",
            "_view_count": null,
            "_view_module": "@jupyter-widgets/base",
            "_view_module_version": "1.2.0",
            "_view_name": "StyleView",
            "description_width": ""
          }
        }
      }
    }
  },
  "nbformat": 4,
  "nbformat_minor": 0
}