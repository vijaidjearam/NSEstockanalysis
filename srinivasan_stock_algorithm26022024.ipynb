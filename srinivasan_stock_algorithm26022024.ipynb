{
  "cells": [
    {
      "cell_type": "markdown",
      "metadata": {
        "id": "view-in-github",
        "colab_type": "text"
      },
      "source": [
        "<a href=\"https://colab.research.google.com/github/vijaidjearam/NSEstockanalysis/blob/main/srinivasan_stock_algorithm26022024.ipynb\" target=\"_parent\"><img src=\"https://colab.research.google.com/assets/colab-badge.svg\" alt=\"Open In Colab\"/></a>"
      ]
    },
    {
      "cell_type": "markdown",
      "metadata": {
        "id": "Hd3zmvdHtIrp"
      },
      "source": [
        "# Installation of Libraries Required for the RunTime\n",
        "\n",
        "---\n",
        "\n"
      ]
    },
    {
      "cell_type": "code",
      "execution_count": null,
      "metadata": {
        "cellView": "form",
        "colab": {
          "base_uri": "https://localhost:8080/"
        },
        "collapsed": true,
        "id": "wrlbXv_AFdMG",
        "outputId": "606c5d2a-ad98-4416-e39d-5af709881f0a"
      },
      "outputs": [
        {
          "output_type": "stream",
          "name": "stdout",
          "text": [
            "Requirement already satisfied: nsepython in /usr/local/lib/python3.10/dist-packages (2.8)\n",
            "Requirement already satisfied: requests in /usr/local/lib/python3.10/dist-packages (from nsepython) (2.31.0)\n",
            "Requirement already satisfied: pandas in /usr/local/lib/python3.10/dist-packages (from nsepython) (1.5.3)\n",
            "Requirement already satisfied: scipy in /usr/local/lib/python3.10/dist-packages (from nsepython) (1.11.4)\n",
            "Requirement already satisfied: python-dateutil>=2.8.1 in /usr/local/lib/python3.10/dist-packages (from pandas->nsepython) (2.8.2)\n",
            "Requirement already satisfied: pytz>=2020.1 in /usr/local/lib/python3.10/dist-packages (from pandas->nsepython) (2023.4)\n",
            "Requirement already satisfied: numpy>=1.21.0 in /usr/local/lib/python3.10/dist-packages (from pandas->nsepython) (1.25.2)\n",
            "Requirement already satisfied: charset-normalizer<4,>=2 in /usr/local/lib/python3.10/dist-packages (from requests->nsepython) (3.3.2)\n",
            "Requirement already satisfied: idna<4,>=2.5 in /usr/local/lib/python3.10/dist-packages (from requests->nsepython) (3.6)\n",
            "Requirement already satisfied: urllib3<3,>=1.21.1 in /usr/local/lib/python3.10/dist-packages (from requests->nsepython) (2.0.7)\n",
            "Requirement already satisfied: certifi>=2017.4.17 in /usr/local/lib/python3.10/dist-packages (from requests->nsepython) (2024.2.2)\n",
            "Requirement already satisfied: six>=1.5 in /usr/local/lib/python3.10/dist-packages (from python-dateutil>=2.8.1->pandas->nsepython) (1.16.0)\n"
          ]
        }
      ],
      "source": [
        "# @title\n",
        "! pip install nsepython"
      ]
    },
    {
      "cell_type": "markdown",
      "metadata": {
        "id": "isi_gry3tVHj"
      },
      "source": [
        "# Import all the required libraries\n",
        "\n",
        "---\n",
        "\n"
      ]
    },
    {
      "cell_type": "code",
      "execution_count": null,
      "metadata": {
        "cellView": "form",
        "id": "pcjswpT0IIwt"
      },
      "outputs": [],
      "source": [
        "# @title\n",
        "import pandas as pd\n",
        "from nsepython import *\n",
        "from datetime import datetime, timedelta, date\n",
        "from dateutil import parser\n",
        "import math"
      ]
    },
    {
      "cell_type": "markdown",
      "metadata": {
        "id": "dJKYvt0Ztn14"
      },
      "source": [
        "# Dependent functions required for the main module\n",
        "\n",
        "---\n",
        "\n"
      ]
    },
    {
      "cell_type": "code",
      "execution_count": null,
      "metadata": {
        "cellView": "form",
        "id": "L7XybPXVIaWW"
      },
      "outputs": [],
      "source": [
        "# @title\n",
        "def get_index_history_lastweek(symbol):\n",
        "    start_date = (datetime.today() - timedelta(days=7)).strftime(\"%m/%d/%Y\")\n",
        "    end_date = datetime.now().strftime(\"%m/%d/%Y\")\n",
        "    df = pd.DataFrame(index_history(symbol,start_date,end_date))\n",
        "    print(df)\n",
        "def get_index_history(symbol,start_date,end_date):\n",
        "    start_date = datetime.strptime(start_date,\"%d-%m-%Y\")\n",
        "    start_date = start_date.strftime('%d-%b-%Y')\n",
        "    end_date = datetime.strptime(end_date,\"%d-%m-%Y\")\n",
        "    end_date = end_date.strftime('%d-%b-%Y')\n",
        "    df = pd.DataFrame(index_history(symbol,start_date,end_date))\n",
        "    return df\n",
        "def gethighofstartdate(df,symbol,start_date,end_date):\n",
        "    start_date = datetime.strptime(start_date,\"%d-%m-%Y\")\n",
        "    dt = start_date.strftime('%d %b %Y')\n",
        "    start_date = start_date.strftime('%d-%b-%Y')\n",
        "    end_date = datetime.strptime(end_date,\"%d-%m-%Y\")\n",
        "    end_date = end_date.strftime('%d-%b-%Y')\n",
        "    filt = (df['HistoricalDate'] == dt)\n",
        "    try:\n",
        "        result = df.loc[filt,'HIGH'].values[0]\n",
        "        return float(result)\n",
        "    except IndexError:\n",
        "        return \"NA\"\n",
        "    except ValueError as ve:\n",
        "        return ve\n",
        "def getlowofstartdate(df,symbol,start_date,end_date):\n",
        "    start_date = datetime.strptime(start_date,\"%d-%m-%Y\")\n",
        "    dt = start_date.strftime('%d %b %Y')\n",
        "    start_date = start_date.strftime('%d-%b-%Y')\n",
        "    end_date = datetime.strptime(end_date,\"%d-%m-%Y\")\n",
        "    end_date = end_date.strftime('%d-%b-%Y')\n",
        "    filt = (df['HistoricalDate'] == dt)\n",
        "    try:\n",
        "        result = df.loc[filt,'LOW'].values[0]\n",
        "        return float(result)\n",
        "    except IndexError:\n",
        "        return \"NA\"\n",
        "def gethighofenddate(df,symbol,start_date,end_date):\n",
        "    start_date = datetime.strptime(start_date,\"%d-%m-%Y\")\n",
        "    start_date = start_date.strftime('%d-%b-%Y')\n",
        "    end_date = datetime.strptime(end_date,\"%d-%m-%Y\")\n",
        "    dt = end_date.strftime('%d %b %Y')\n",
        "    end_date = end_date.strftime('%d-%b-%Y')\n",
        "    filt = (df['HistoricalDate'] == dt)\n",
        "    try:\n",
        "        result = df.loc[filt,'HIGH'].values[0]\n",
        "        return float(result)\n",
        "    except IndexError:\n",
        "        return \"NA\"\n",
        "    except ValueError as ve:\n",
        "        return ve\n",
        "def getlowofenddate(df,symbol,start_date,end_date):\n",
        "    start_date = datetime.strptime(start_date,\"%d-%m-%Y\")\n",
        "    start_date = start_date.strftime('%d-%b-%Y')\n",
        "    end_date = datetime.strptime(end_date,\"%d-%m-%Y\")\n",
        "    dt = end_date.strftime('%d %b %Y')\n",
        "    end_date = end_date.strftime('%d-%b-%Y')\n",
        "    filt = (df['HistoricalDate'] == dt)\n",
        "    try:\n",
        "        result = df.loc[filt,'LOW'].values[0]\n",
        "        return float(result)\n",
        "    except IndexError:\n",
        "        return \"NA\"\n",
        "def derivativehistorycallgetlowvalue(symbol,start_date,end_date,instrumentType,expiry_date,strikePrice):\n",
        "    optionType = \"CE\"\n",
        "    start_date = datetime.strptime(start_date,\"%d-%m-%Y\")\n",
        "    start_date = start_date.strftime(\"%d-%m-%Y\")\n",
        "    end_date = datetime.strptime(end_date,\"%d-%m-%Y\")\n",
        "    end_date = end_date.strftime(\"%d-%m-%Y\")\n",
        "    expiry_date = datetime.strptime(expiry_date,\"%d-%m-%Y\")\n",
        "    expiry_date = expiry_date.strftime(\"%d-%b-%Y\")\n",
        "    try:\n",
        "        df = pd.DataFrame(derivative_history(symbol,start_date,end_date,instrumentType,expiry_date,strikePrice,optionType))\n",
        "        result = (df['FH_TRADE_LOW_PRICE'].min())\n",
        "        return float(result)\n",
        "    except:\n",
        "        return \"NA\"\n",
        "def derivativehistoryputgetlowvalue(symbol,start_date,end_date,instrumentType,expiry_date,strikePrice,):\n",
        "    optionType = \"PE\"\n",
        "    start_date = datetime.strptime(start_date,\"%d-%m-%Y\")\n",
        "    start_date = start_date.strftime(\"%d-%m-%Y\")\n",
        "    end_date = datetime.strptime(end_date,\"%d-%m-%Y\")\n",
        "    end_date = end_date.strftime(\"%d-%m-%Y\")\n",
        "    expiry_date = datetime.strptime(expiry_date,\"%d-%m-%Y\")\n",
        "    expiry_date = expiry_date.strftime(\"%d-%b-%Y\")\n",
        "    try:\n",
        "        df = pd.DataFrame(derivative_history(symbol,start_date,end_date,instrumentType,expiry_date,strikePrice,optionType))\n",
        "        result = (df['FH_TRADE_LOW_PRICE'].min())\n",
        "        return float(result)\n",
        "    except:\n",
        "        return \"NA\"\n",
        "def round_up_to_base(x, base=50):\n",
        "    return x + (base - x) % base\n",
        "def round_down_to_base(x, base=50):\n",
        "    return x - (x % base)\n",
        "\n",
        "def get_end_strike_value(index_symbol,start_date,end_date,expiry_date,instrumentType):\n",
        "    symbol = index_symbol\n",
        "    df = get_index_history(symbol,start_date,end_date)\n",
        "    highofstartdate = gethighofstartdate(df,symbol,start_date,end_date)\n",
        "    print('highofstartdate : '+ str(highofstartdate))\n",
        "    lowofstartdate = getlowofstartdate(df,symbol,start_date,end_date)\n",
        "    print('lowofstartdate: '+ str(lowofstartdate))\n",
        "    highofenddate = gethighofenddate(df,symbol,start_date,end_date)\n",
        "    print('highofenddate: '+ str(highofenddate))\n",
        "    lowofenddate = getlowofenddate(df,symbol,start_date,end_date)\n",
        "    print('lowofenddate : '+ str(lowofenddate))\n",
        "    maxof2days = max(highofstartdate,highofenddate)\n",
        "    print('maxof2days: '+ str(maxof2days))\n",
        "    minof2days = min(lowofstartdate,lowofenddate)\n",
        "    print('minof2days :' + str(minof2days))\n",
        "    bufferhigh = round(maxof2days * 1.0015)\n",
        "    print('bufferhigh : '+ str(bufferhigh))\n",
        "    bufferlow = round(minof2days * 0.9985)\n",
        "    print('bufferlow : '+ str(bufferlow))\n",
        "    callendstrike = round_down_to_base(bufferlow)\n",
        "    print('callendstrike : '+str(callendstrike))\n",
        "    putendstrike = round_up_to_base(bufferhigh)\n",
        "    print('putendstrike : '+str(putendstrike))\n",
        "    return callendstrike,putendstrike\n",
        "def get_call_entrystrike(derivative_symbol,start_date,end_date,instrumentType,expiry_date,callendstrike):\n",
        "    # calculate CallEntryStrike 1st row\n",
        "    symbol = derivative_symbol\n",
        "    strike = []\n",
        "    premium = []\n",
        "    twodll = []\n",
        "    strike.append(callendstrike)\n",
        "    temppremium = callendstrike * (0.85/100)\n",
        "    premium.append(temppremium)\n",
        "    temptwodll = derivativehistorycallgetlowvalue(symbol,start_date,end_date,instrumentType,expiry_date,strikePrice=strike[0])\n",
        "    twodll.append(temptwodll)\n",
        "    # Call Entry strke 2....n rows\n",
        "    for i in range(1,9):\n",
        "        if twodll[-1] >= premium[-1]:\n",
        "            strike.append(strike[-1]+50)\n",
        "            premium.append(strike[-1]* (0.85/100))\n",
        "            twodll.append(derivativehistorycallgetlowvalue(symbol,start_date,end_date,instrumentType,expiry_date,strikePrice=strike[-1]))\n",
        "        else:\n",
        "            break\n",
        "    calldf = pd.DataFrame({\"strike\":strike,\"premium\":premium,\"twodll\":twodll})\n",
        "    calldf['diff']=round(calldf['twodll']-calldf['premium'],2)\n",
        "    print (calldf)\n",
        "    leastdiff = calldf.loc[calldf['diff']>0,'diff'].min()\n",
        "    leastdiff = round(leastdiff,2)\n",
        "    print ('leastdiff : '+str(leastdiff))\n",
        "    if math.isnan(leastdiff):\n",
        "        callentrystrike = 'NA'\n",
        "        calltwodll = 'NA'\n",
        "    else:\n",
        "        filt = (calldf['diff'] == leastdiff)\n",
        "        callentrystrike = calldf.loc[filt,'strike'].values[0]\n",
        "        calltwodll = calldf.loc[filt,'twodll'].values[0]\n",
        "    print(\"Call entry strike : \",callentrystrike)\n",
        "    print(\"Call entry twoDLL : \",calltwodll)\n",
        "    return callentrystrike,calltwodll\n",
        "def get_put_entrystrike(derivative_symbol,start_date,end_date,instrumentType,expiry_date,putendstrike):\n",
        "    # finding PutEntryStrike 1st row\n",
        "    symbol = derivative_symbol\n",
        "    strike = []\n",
        "    premium = []\n",
        "    twodll = []\n",
        "    strike.append(putendstrike)\n",
        "    temppremium = putendstrike * (0.85/100)\n",
        "    premium.append(temppremium)\n",
        "    temptwodll = derivativehistoryputgetlowvalue(symbol,start_date,end_date,instrumentType,expiry_date,strikePrice=strike[0])\n",
        "    twodll.append(temptwodll)\n",
        "    # Put Entry strke 2....n rows\n",
        "    for i in range(1,9):\n",
        "        if twodll[-1] >= premium[-1]:\n",
        "            strike.append(strike[-1]-50)\n",
        "            premium.append(strike[-1]* (0.85/100))\n",
        "            twodll.append(derivativehistoryputgetlowvalue(symbol,start_date,end_date,instrumentType,expiry_date,strikePrice=strike[-1]))\n",
        "        else:\n",
        "            break\n",
        "    putdf = pd.DataFrame({\"strike\":strike,\"premium\":premium,\"twodll\":twodll})\n",
        "    putdf['diff']=round(putdf['twodll']-putdf['premium'],2)\n",
        "    print (putdf)\n",
        "    leastdiff = putdf.loc[putdf['diff']>0,'diff'].min()\n",
        "    leastdiff = round(leastdiff,2)\n",
        "    print ('leastdiff : '+str(leastdiff))\n",
        "    if math.isnan(leastdiff):\n",
        "        putentrystrike = 'NA'\n",
        "        puttwodll = 'NA'\n",
        "    else:\n",
        "        filt = (putdf['diff'] == leastdiff)\n",
        "        putentrystrike = putdf.loc[filt,'strike'].values[0]\n",
        "        puttwodll = putdf.loc[filt,'twodll'].values[0]\n",
        "    print(\"Put entry strike : \",putentrystrike)\n",
        "    print(\"Put entry twoDLL : \",puttwodll)\n",
        "    return putentrystrike,puttwodll"
      ]
    },
    {
      "cell_type": "code",
      "execution_count": null,
      "metadata": {
        "cellView": "form",
        "id": "8INNM-Y3GGF6"
      },
      "outputs": [],
      "source": [
        "# @title Input Form (All the fields are mandatory to execute the main module)\n",
        "# @markdown Forms support many types of fields.\n",
        "\n",
        "index_symbol = 'NIFTY 50'  # @param [\"NIFTY 50\", \"BANKNIFTY\"]\n",
        "derivative_symbol = 'NIFTY'  # @param [\"NIFTY\", \"BANKNIFTY\"]\n",
        "start_date = \"2024-02-22\"  # @param {type: \"date\"}\n",
        "end_date = \"2024-02-23\"  # @param {type: \"date\"}\n",
        "instrumentType = 'options' # @param [\"options\", \"Futures\"]\n",
        "# @markdown ---"
      ]
    },
    {
      "cell_type": "code",
      "execution_count": null,
      "metadata": {
        "id": "NbO4KXiE4oCV"
      },
      "outputs": [],
      "source": []
    },
    {
      "cell_type": "markdown",
      "metadata": {
        "id": "7D9gqVuR8X5B"
      },
      "source": [
        "# The block below will get the expiry dates ( The Expiry dates is grabbed using the end date provided in the input form)\n",
        "\n",
        "---\n",
        "\n"
      ]
    },
    {
      "cell_type": "code",
      "execution_count": null,
      "metadata": {
        "id": "NvvJe_E4JiJN"
      },
      "outputs": [],
      "source": [
        "# @title\n",
        "def expiry_history_dates(symbol,start_date,end_date):\n",
        "  nsefetch_url = \"https://www.nseindia.com/api/historical/fo/derivatives/meta?&from=\"+start_date+\"&to=\"+end_date+\"&symbol=\"+symbol+\"\"\n",
        "  payload = nsefetch(nsefetch_url)\n",
        "  return payload\n",
        "start_date = datetime.strptime(start_date,\"%Y-%m-%d\")\n",
        "start_date = start_date.strftime(\"%d-%m-%Y\")\n",
        "end_date = datetime.strptime(end_date,\"%Y-%m-%d\")\n",
        "year = end_date.strftime(\"%Y\")\n",
        "end_date = end_date.strftime(\"%d-%m-%Y\")\n",
        "expiry_date = expiry_history_dates(derivative_symbol,start_date,end_date)\n",
        "#expiry_date_list = expiry_date['yearsByInstrument']['OPTIDX'][year]\n",
        "expiry_date_list = expiry_date['expiryDatesByInstrument']['OPTIDX']"
      ]
    },
    {
      "cell_type": "markdown",
      "metadata": {
        "id": "bH9rCt1purl0"
      },
      "source": [
        "# Please select the appropriate expiry date from the drop down\n",
        "\n",
        "---\n",
        "\n"
      ]
    },
    {
      "cell_type": "code",
      "execution_count": null,
      "metadata": {
        "cellView": "form",
        "colab": {
          "base_uri": "https://localhost:8080/",
          "height": 69,
          "referenced_widgets": [
            "36322048ddd540759e2d5f5561be310c",
            "6292b3c11e7a4668af005f774b3d9138",
            "3f51c67733534837997467761b72168e"
          ]
        },
        "id": "WCqrhjjMJnJU",
        "outputId": "4bc3e37e-1781-475e-ecf3-b8b5b831ebac"
      },
      "outputs": [
        {
          "output_type": "display_data",
          "data": {
            "text/plain": [
              "Dropdown(description='Expiry_date', options=('04-Jan-2024', '11-Jan-2024', '18-Jan-2024', '25-Jan-2024', '01-F…"
            ],
            "application/vnd.jupyter.widget-view+json": {
              "version_major": 2,
              "version_minor": 0,
              "model_id": "36322048ddd540759e2d5f5561be310c"
            }
          },
          "metadata": {}
        }
      ],
      "source": [
        "# @title\n",
        "import ipywidgets as widgets\n",
        "expiry_date_picker = widgets.Dropdown(options=expiry_date_list, description=\"Expiry_date\")\n",
        "expiry_date_picker"
      ]
    },
    {
      "cell_type": "markdown",
      "metadata": {
        "id": "XBTulIAAOSKg"
      },
      "source": [
        "# Main Module"
      ]
    },
    {
      "cell_type": "code",
      "execution_count": null,
      "metadata": {
        "colab": {
          "base_uri": "https://localhost:8080/"
        },
        "id": "FT5IvovVIfRH",
        "outputId": "adc13dd4-dea0-442d-ab41-67fe74072e47"
      },
      "outputs": [
        {
          "output_type": "stream",
          "name": "stdout",
          "text": [
            "22-02-2024\n",
            "23-02-2024\n",
            "29-02-2024\n",
            "highofstartdate : 22252.5\n",
            "lowofstartdate: 21875.25\n",
            "highofenddate: 22297.5\n",
            "lowofenddate : 22186.1\n",
            "maxof2days: 22297.5\n",
            "minof2days :21875.25\n",
            "bufferhigh : 22331\n",
            "bufferlow : 21842\n",
            "callendstrike : 21800\n",
            "putendstrike : 22350\n",
            "--------Calculating Call entry strike for expiry date : 29-02-2024\n",
            "   strike  premium  twodll   diff\n",
            "0   21800  185.300  263.90  78.60\n",
            "1   21850  185.725  233.50  47.77\n",
            "2   21900  186.150  204.75  18.60\n",
            "3   21950  186.575  177.65  -8.93\n",
            "leastdiff : 18.6\n",
            "Call entry strike :  21900\n",
            "Call entry twoDLL :  204.75\n",
            "CallEntry : 184.275\n",
            "CallTarget :46.06875\n",
            "CallStoploss : 322.48125\n",
            "--------Calculating Put entry strike for expiry date : 29-02-2024\n",
            "   strike  premium  twodll   diff\n",
            "0   22350  189.975  163.45 -26.53\n",
            "leastdiff : nan\n",
            "Put entry strike :  NA\n",
            "Put entry twoDLL :  NA\n",
            "--------Calculating Put entry strike for expiry date : 07-03-2024\n",
            "   strike  premium  twodll   diff\n",
            "0   22350  189.975   208.9  18.92\n",
            "1   22300  189.550   187.7  -1.85\n",
            "leastdiff : 18.92\n",
            "Put entry strike :  22350\n",
            "Put entry twoDLL :  208.9\n",
            "PutEntry : 188.01000000000002\n",
            "PutTarget :47.002500000000005\n",
            "PutStoploss : 329.01750000000004\n"
          ]
        }
      ],
      "source": [
        "# @title\n",
        "#start_date = datetime.strptime(start_date,\"%Y-%m-%d\")\n",
        "#end_date = datetime.strptime(end_date,\"%Y-%m-%d\")\n",
        "expiry_date = expiry_date_picker.value\n",
        "expiry_date = datetime.strptime(expiry_date,\"%d-%b-%Y\")\n",
        "expiry_date_selected = expiry_date.strftime(\"%d-%b-%Y\")\n",
        "print(start_date)\n",
        "print(end_date)\n",
        "expiry_date = expiry_date.strftime(\"%d-%m-%Y\")\n",
        "print(expiry_date)\n",
        "callendstrike,putendstrike = get_end_strike_value(index_symbol,start_date,end_date,expiry_date,instrumentType)\n",
        "index = expiry_date_list.index(expiry_date_selected)\n",
        "#The expiry dates is a list that starts with the selected expiry date and ends with the end of the expiry_date_list\n",
        "expiry_dates = expiry_date_list[index:-1]\n",
        "callentrystrike = 'NA'\n",
        "putentrystrike = 'NA'\n",
        "for item in expiry_dates:\n",
        "  if callentrystrike == 'NA':\n",
        "    expiry_date = datetime.strptime(item,\"%d-%b-%Y\")\n",
        "    expiry_date = expiry_date.strftime(\"%d-%m-%Y\")\n",
        "    print (\"--------Calculating Call entry strike for expiry date : \"+expiry_date)\n",
        "    callentrystrike,calltwodll = get_call_entrystrike(derivative_symbol,start_date,end_date,instrumentType,expiry_date,callendstrike)\n",
        "\n",
        "CallEntry = 0.9 * calltwodll\n",
        "CallTarget = CallEntry * 0.25\n",
        "CallStoploss = CallEntry * 1.75\n",
        "print(\"CallEntry : \"+str(CallEntry))\n",
        "print(\"CallTarget :\" +str(CallTarget))\n",
        "print(\"CallStoploss : \"+str(CallStoploss))\n",
        "\n",
        "\n",
        "for item in expiry_dates:\n",
        "  if putentrystrike == 'NA':\n",
        "    expiry_date = datetime.strptime(item,\"%d-%b-%Y\")\n",
        "    expiry_date = expiry_date.strftime(\"%d-%m-%Y\")\n",
        "    print (\"--------Calculating Put entry strike for expiry date : \"+expiry_date)\n",
        "    putentrystrike,puttwodll = get_put_entrystrike(derivative_symbol,start_date,end_date,instrumentType,expiry_date,putendstrike)\n",
        "\n",
        "PutEntry = 0.9 * puttwodll\n",
        "PutTarget = PutEntry * 0.25\n",
        "PutStoploss = PutEntry * 1.75\n",
        "print(\"PutEntry : \"+str(PutEntry))\n",
        "print(\"PutTarget :\" +str(PutTarget))\n",
        "print(\"PutStoploss : \"+str(PutStoploss))\n",
        "# Clearing all data for the next run\n",
        "start_date = \"\"\n",
        "end_date = \"\"\n",
        "expiry_date = \"\"\n",
        "expiry_date_list = \"\"\n",
        "expiry_date_picker = \"\"\n",
        "expiry_date_selected = \"\""
      ]
    },
    {
      "cell_type": "markdown",
      "metadata": {
        "id": "X0zgbA-Qi-z2"
      },
      "source": [
        "\n",
        "\n",
        "```\n",
        "# Change logs\n",
        "```\n",
        "--18/02/2024\n",
        "\n",
        "Code requests\n",
        "\n",
        "1. include date selection in index history ✅\n",
        "\n",
        "2. get all expiry date,if leasediff nan ,try with next expiry date ✅\n",
        "\n",
        "3. Entry=0.9*2dll; Target=Entry*0.25; Stoploss=Entry*1.75 ✅\n",
        "\n",
        "\n",
        "\n",
        "\n",
        "\n"
      ]
    }
  ],
  "metadata": {
    "colab": {
      "provenance": [],
      "include_colab_link": true
    },
    "kernelspec": {
      "display_name": "Python 3",
      "name": "python3"
    },
    "language_info": {
      "name": "python"
    },
    "widgets": {
      "application/vnd.jupyter.widget-state+json": {
        "36322048ddd540759e2d5f5561be310c": {
          "model_module": "@jupyter-widgets/controls",
          "model_name": "DropdownModel",
          "model_module_version": "1.5.0",
          "state": {
            "_dom_classes": [],
            "_model_module": "@jupyter-widgets/controls",
            "_model_module_version": "1.5.0",
            "_model_name": "DropdownModel",
            "_options_labels": [
              "04-Jan-2024",
              "11-Jan-2024",
              "18-Jan-2024",
              "25-Jan-2024",
              "01-Feb-2024",
              "08-Feb-2024",
              "15-Feb-2024",
              "22-Feb-2024",
              "29-Feb-2024",
              "07-Mar-2024",
              "14-Mar-2024",
              "21-Mar-2024",
              "28-Mar-2024",
              "04-Apr-2024",
              "25-Apr-2024",
              "27-Jun-2024",
              "26-Sep-2024",
              "26-Dec-2024",
              "26-Jun-2025",
              "24-Dec-2025",
              "25-Jun-2026",
              "31-Dec-2026",
              "24-Jun-2027",
              "30-Dec-2027",
              "29-Jun-2028",
              "28-Dec-2028"
            ],
            "_view_count": null,
            "_view_module": "@jupyter-widgets/controls",
            "_view_module_version": "1.5.0",
            "_view_name": "DropdownView",
            "description": "Expiry_date",
            "description_tooltip": null,
            "disabled": false,
            "index": 8,
            "layout": "IPY_MODEL_6292b3c11e7a4668af005f774b3d9138",
            "style": "IPY_MODEL_3f51c67733534837997467761b72168e"
          }
        },
        "6292b3c11e7a4668af005f774b3d9138": {
          "model_module": "@jupyter-widgets/base",
          "model_name": "LayoutModel",
          "model_module_version": "1.2.0",
          "state": {
            "_model_module": "@jupyter-widgets/base",
            "_model_module_version": "1.2.0",
            "_model_name": "LayoutModel",
            "_view_count": null,
            "_view_module": "@jupyter-widgets/base",
            "_view_module_version": "1.2.0",
            "_view_name": "LayoutView",
            "align_content": null,
            "align_items": null,
            "align_self": null,
            "border": null,
            "bottom": null,
            "display": null,
            "flex": null,
            "flex_flow": null,
            "grid_area": null,
            "grid_auto_columns": null,
            "grid_auto_flow": null,
            "grid_auto_rows": null,
            "grid_column": null,
            "grid_gap": null,
            "grid_row": null,
            "grid_template_areas": null,
            "grid_template_columns": null,
            "grid_template_rows": null,
            "height": null,
            "justify_content": null,
            "justify_items": null,
            "left": null,
            "margin": null,
            "max_height": null,
            "max_width": null,
            "min_height": null,
            "min_width": null,
            "object_fit": null,
            "object_position": null,
            "order": null,
            "overflow": null,
            "overflow_x": null,
            "overflow_y": null,
            "padding": null,
            "right": null,
            "top": null,
            "visibility": null,
            "width": null
          }
        },
        "3f51c67733534837997467761b72168e": {
          "model_module": "@jupyter-widgets/controls",
          "model_name": "DescriptionStyleModel",
          "model_module_version": "1.5.0",
          "state": {
            "_model_module": "@jupyter-widgets/controls",
            "_model_module_version": "1.5.0",
            "_model_name": "DescriptionStyleModel",
            "_view_count": null,
            "_view_module": "@jupyter-widgets/base",
            "_view_module_version": "1.2.0",
            "_view_name": "StyleView",
            "description_width": ""
          }
        }
      }
    }
  },
  "nbformat": 4,
  "nbformat_minor": 0
}